{
 "cells": [
  {
   "cell_type": "code",
   "execution_count": 1,
   "metadata": {},
   "outputs": [],
   "source": [
    "import pandas as pd \n",
    "import numpy as np \n",
    "import matplotlib.pyplot as plt"
   ]
  },
  {
   "cell_type": "code",
   "execution_count": 2,
   "metadata": {},
   "outputs": [
    {
     "data": {
      "text/html": [
       "<div>\n",
       "<style scoped>\n",
       "    .dataframe tbody tr th:only-of-type {\n",
       "        vertical-align: middle;\n",
       "    }\n",
       "\n",
       "    .dataframe tbody tr th {\n",
       "        vertical-align: top;\n",
       "    }\n",
       "\n",
       "    .dataframe thead th {\n",
       "        text-align: right;\n",
       "    }\n",
       "</style>\n",
       "<table border=\"1\" class=\"dataframe\">\n",
       "  <thead>\n",
       "    <tr style=\"text-align: right;\">\n",
       "      <th></th>\n",
       "      <th>index</th>\n",
       "      <th>Order ID</th>\n",
       "      <th>Cust ID</th>\n",
       "      <th>M</th>\n",
       "      <th>Age</th>\n",
       "      <th>age group</th>\n",
       "      <th>Date</th>\n",
       "      <th>Status</th>\n",
       "      <th>Channel</th>\n",
       "      <th>SKU</th>\n",
       "      <th>Category</th>\n",
       "      <th>Size</th>\n",
       "      <th>Qty</th>\n",
       "      <th>currency</th>\n",
       "      <th>Amount</th>\n",
       "      <th>ship-city</th>\n",
       "      <th>ship-state</th>\n",
       "      <th>ship-postal-code</th>\n",
       "      <th>ship-country</th>\n",
       "      <th>B2B</th>\n",
       "    </tr>\n",
       "  </thead>\n",
       "  <tbody>\n",
       "    <tr>\n",
       "      <th>0</th>\n",
       "      <td>1</td>\n",
       "      <td>171-1029312-3038738</td>\n",
       "      <td>1029312</td>\n",
       "      <td>Women</td>\n",
       "      <td>44</td>\n",
       "      <td>Adult</td>\n",
       "      <td>12/4/2022</td>\n",
       "      <td>Delivered</td>\n",
       "      <td>Myntra</td>\n",
       "      <td>JNE1233-BLUE-KR-031-XXL</td>\n",
       "      <td>kurta</td>\n",
       "      <td>XXL</td>\n",
       "      <td>1</td>\n",
       "      <td>INR</td>\n",
       "      <td>376</td>\n",
       "      <td>MOHALI</td>\n",
       "      <td>PUNJAB</td>\n",
       "      <td>140301</td>\n",
       "      <td>IN</td>\n",
       "      <td>False</td>\n",
       "    </tr>\n",
       "    <tr>\n",
       "      <th>1</th>\n",
       "      <td>2</td>\n",
       "      <td>405-2183842-2225946</td>\n",
       "      <td>2183842</td>\n",
       "      <td>Women</td>\n",
       "      <td>29</td>\n",
       "      <td>Teenager</td>\n",
       "      <td>12/4/2022</td>\n",
       "      <td>Delivered</td>\n",
       "      <td>Ajio</td>\n",
       "      <td>SET414-KR-NP-L</td>\n",
       "      <td>Set</td>\n",
       "      <td>L</td>\n",
       "      <td>1</td>\n",
       "      <td>INR</td>\n",
       "      <td>1449</td>\n",
       "      <td>GURUGRAM</td>\n",
       "      <td>HARYANA</td>\n",
       "      <td>122002</td>\n",
       "      <td>IN</td>\n",
       "      <td>False</td>\n",
       "    </tr>\n",
       "    <tr>\n",
       "      <th>2</th>\n",
       "      <td>3</td>\n",
       "      <td>171-1641533-8921966</td>\n",
       "      <td>1641533</td>\n",
       "      <td>Women</td>\n",
       "      <td>67</td>\n",
       "      <td>Senior</td>\n",
       "      <td>12/4/2022</td>\n",
       "      <td>Delivered</td>\n",
       "      <td>Myntra</td>\n",
       "      <td>SET261-KR-PP-S</td>\n",
       "      <td>Set</td>\n",
       "      <td>S</td>\n",
       "      <td>1</td>\n",
       "      <td>INR</td>\n",
       "      <td>453</td>\n",
       "      <td>KOLKATA</td>\n",
       "      <td>WEST BENGAL</td>\n",
       "      <td>700029</td>\n",
       "      <td>IN</td>\n",
       "      <td>False</td>\n",
       "    </tr>\n",
       "    <tr>\n",
       "      <th>3</th>\n",
       "      <td>4</td>\n",
       "      <td>404-7490807-6300351</td>\n",
       "      <td>7490807</td>\n",
       "      <td>Women</td>\n",
       "      <td>20</td>\n",
       "      <td>Teenager</td>\n",
       "      <td>12/4/2022</td>\n",
       "      <td>Delivered</td>\n",
       "      <td>Amazon</td>\n",
       "      <td>SET110-KR-PP-M</td>\n",
       "      <td>Set</td>\n",
       "      <td>M</td>\n",
       "      <td>1</td>\n",
       "      <td>INR</td>\n",
       "      <td>729</td>\n",
       "      <td>THANJAVUR</td>\n",
       "      <td>TAMIL NADU</td>\n",
       "      <td>613007</td>\n",
       "      <td>IN</td>\n",
       "      <td>False</td>\n",
       "    </tr>\n",
       "    <tr>\n",
       "      <th>4</th>\n",
       "      <td>5</td>\n",
       "      <td>403-9293516-4577154</td>\n",
       "      <td>9293516</td>\n",
       "      <td>Women</td>\n",
       "      <td>62</td>\n",
       "      <td>Senior</td>\n",
       "      <td>12/4/2022</td>\n",
       "      <td>Delivered</td>\n",
       "      <td>Myntra</td>\n",
       "      <td>JNE2294-KR-A-XXL</td>\n",
       "      <td>kurta</td>\n",
       "      <td>XXL</td>\n",
       "      <td>1</td>\n",
       "      <td>INR</td>\n",
       "      <td>544</td>\n",
       "      <td>GURUGRAM</td>\n",
       "      <td>HARYANA</td>\n",
       "      <td>122001</td>\n",
       "      <td>IN</td>\n",
       "      <td>False</td>\n",
       "    </tr>\n",
       "  </tbody>\n",
       "</table>\n",
       "</div>"
      ],
      "text/plain": [
       "   index             Order ID  Cust ID      M  Age age group       Date  \\\n",
       "0      1  171-1029312-3038738  1029312  Women   44     Adult  12/4/2022   \n",
       "1      2  405-2183842-2225946  2183842  Women   29  Teenager  12/4/2022   \n",
       "2      3  171-1641533-8921966  1641533  Women   67    Senior  12/4/2022   \n",
       "3      4  404-7490807-6300351  7490807  Women   20  Teenager  12/4/2022   \n",
       "4      5  403-9293516-4577154  9293516  Women   62    Senior  12/4/2022   \n",
       "\n",
       "      Status Channel                       SKU Category Size Qty currency  \\\n",
       "0  Delivered   Myntra  JNE1233-BLUE-KR-031-XXL    kurta  XXL   1      INR   \n",
       "1  Delivered     Ajio           SET414-KR-NP-L      Set    L   1      INR   \n",
       "2  Delivered   Myntra           SET261-KR-PP-S      Set    S   1      INR   \n",
       "3  Delivered   Amazon           SET110-KR-PP-M      Set    M   1      INR   \n",
       "4  Delivered   Myntra         JNE2294-KR-A-XXL    kurta  XXL   1      INR   \n",
       "\n",
       "   Amount  ship-city   ship-state  ship-postal-code ship-country    B2B  \n",
       "0     376     MOHALI       PUNJAB            140301           IN  False  \n",
       "1    1449   GURUGRAM      HARYANA            122002           IN  False  \n",
       "2     453    KOLKATA  WEST BENGAL            700029           IN  False  \n",
       "3     729  THANJAVUR   TAMIL NADU            613007           IN  False  \n",
       "4     544   GURUGRAM      HARYANA            122001           IN  False  "
      ]
     },
     "execution_count": 2,
     "metadata": {},
     "output_type": "execute_result"
    }
   ],
   "source": [
    "store = pd.read_csv(\"all_data/Vrinda Store Data Analysis - Vrinda Store.csv\")\n",
    "store.head()"
   ]
  },
  {
   "cell_type": "code",
   "execution_count": 3,
   "metadata": {},
   "outputs": [],
   "source": [
    "# replacing all the unmatched character by women and men \n",
    "\n",
    "Sex= store[\"M\"].replace({'M':\"Men\",\"W\":\"Women\"})"
   ]
  },
  {
   "cell_type": "code",
   "execution_count": 4,
   "metadata": {},
   "outputs": [],
   "source": [
    "# adding a column by name sex\n",
    "store.insert(3,\"Sex\",value=Sex)"
   ]
  },
  {
   "cell_type": "code",
   "execution_count": 5,
   "metadata": {},
   "outputs": [],
   "source": [
    "# drop column named M \n",
    "store.drop(columns=[\"M\"],inplace=True)"
   ]
  },
  {
   "cell_type": "code",
   "execution_count": 6,
   "metadata": {},
   "outputs": [],
   "source": [
    "# removing data errors from col qty \n",
    "store[\"Qty\"]=store[\"Qty\"].replace({\"One\":1,\"Two\":2})\n"
   ]
  },
  {
   "cell_type": "code",
   "execution_count": 7,
   "metadata": {},
   "outputs": [],
   "source": [
    "# changing col qty  to intiger \n",
    "store[\"Qty\"]=pd.to_numeric(store[\"Qty\"],errors=\"coerce\")"
   ]
  },
  {
   "cell_type": "code",
   "execution_count": 8,
   "metadata": {},
   "outputs": [],
   "source": [
    "# changing col date rom object to date \n",
    "store[\"Date\"]=pd.to_datetime(store[\"Date\"],errors=\"coerce\")"
   ]
  },
  {
   "cell_type": "code",
   "execution_count": 9,
   "metadata": {},
   "outputs": [
    {
     "name": "stderr",
     "output_type": "stream",
     "text": [
      "C:\\Users\\nauti\\AppData\\Local\\Temp\\ipykernel_53236\\1200461415.py:2: FutureWarning: A value is trying to be set on a copy of a DataFrame or Series through chained assignment using an inplace method.\n",
      "The behavior will change in pandas 3.0. This inplace method will never work because the intermediate object on which we are setting values always behaves as a copy.\n",
      "\n",
      "For example, when doing 'df[col].method(value, inplace=True)', try using 'df.method({col: value}, inplace=True)' or df[col] = df[col].method(value) instead, to perform the operation inplace on the original object.\n",
      "\n",
      "\n",
      "  store[\"ship-state\"]=store[\"ship-state\"].replace({\"Arunachal pradesh\":\"ARUNACHAL PRADESH\",\"Arunachal pradesh\":\"ARUNACHAL PRADESH\",\"chandigarh\":\"CHANDIGARH\",\"Goa\":\"GOA\",\"goa\":\"GOA\",\"New Delhi\":\"DELHI\",\"manipur\":\"MANIPUR\",\"nagaland\":\"NAGALAND\",\"sikkim\":\"SIKKIM\",},inplace=True)\n"
     ]
    }
   ],
   "source": [
    "# replacing typo errors with same manner \n",
    "store[\"ship-state\"]=store[\"ship-state\"].replace({\"Arunachal pradesh\":\"ARUNACHAL PRADESH\",\"Arunachal pradesh\":\"ARUNACHAL PRADESH\",\"chandigarh\":\"CHANDIGARH\",\"Goa\":\"GOA\",\"goa\":\"GOA\",\"New Delhi\":\"DELHI\",\"manipur\":\"MANIPUR\",\"nagaland\":\"NAGALAND\",\"sikkim\":\"SIKKIM\",},inplace=True)"
   ]
  },
  {
   "cell_type": "code",
   "execution_count": 24,
   "metadata": {},
   "outputs": [],
   "source": [
    "# coverting it back to string \n",
    "store[\"ship-state\"]=store[\"ship-state\"].astype(\"str\")"
   ]
  },
  {
   "cell_type": "code",
   "execution_count": 10,
   "metadata": {},
   "outputs": [],
   "source": [
    "# since this data is from india so column like currency and country shoulb be removed \\\n",
    "store=store.drop(columns=[\"currency\",\"ship-country\"]) "
   ]
  },
  {
   "cell_type": "code",
   "execution_count": 25,
   "metadata": {},
   "outputs": [
    {
     "name": "stdout",
     "output_type": "stream",
     "text": [
      "<class 'pandas.core.frame.DataFrame'>\n",
      "RangeIndex: 31047 entries, 0 to 31046\n",
      "Data columns (total 18 columns):\n",
      " #   Column            Non-Null Count  Dtype         \n",
      "---  ------            --------------  -----         \n",
      " 0   index             31047 non-null  int64         \n",
      " 1   Order ID          31047 non-null  object        \n",
      " 2   Cust ID           31047 non-null  int64         \n",
      " 3   Sex               31047 non-null  object        \n",
      " 4   Age               31047 non-null  int64         \n",
      " 5   age group         31047 non-null  object        \n",
      " 6   Date              31047 non-null  datetime64[ns]\n",
      " 7   Status            31047 non-null  object        \n",
      " 8   Channel           31047 non-null  object        \n",
      " 9   SKU               31047 non-null  object        \n",
      " 10  Category          31047 non-null  object        \n",
      " 11  Size              31047 non-null  object        \n",
      " 12  Qty               31047 non-null  int64         \n",
      " 13  Amount            31047 non-null  int64         \n",
      " 14  ship-city         31047 non-null  object        \n",
      " 15  ship-state        31047 non-null  object        \n",
      " 16  ship-postal-code  31047 non-null  int64         \n",
      " 17  B2B               31047 non-null  bool          \n",
      "dtypes: bool(1), datetime64[ns](1), int64(6), object(10)\n",
      "memory usage: 4.1+ MB\n"
     ]
    }
   ],
   "source": [
    "store.info()"
   ]
  },
  {
   "cell_type": "code",
   "execution_count": 12,
   "metadata": {},
   "outputs": [
    {
     "data": {
      "text/html": [
       "<div>\n",
       "<style scoped>\n",
       "    .dataframe tbody tr th:only-of-type {\n",
       "        vertical-align: middle;\n",
       "    }\n",
       "\n",
       "    .dataframe tbody tr th {\n",
       "        vertical-align: top;\n",
       "    }\n",
       "\n",
       "    .dataframe thead th {\n",
       "        text-align: right;\n",
       "    }\n",
       "</style>\n",
       "<table border=\"1\" class=\"dataframe\">\n",
       "  <thead>\n",
       "    <tr style=\"text-align: right;\">\n",
       "      <th></th>\n",
       "      <th>index</th>\n",
       "      <th>Cust ID</th>\n",
       "      <th>Age</th>\n",
       "      <th>Date</th>\n",
       "      <th>Qty</th>\n",
       "      <th>Amount</th>\n",
       "      <th>ship-postal-code</th>\n",
       "    </tr>\n",
       "  </thead>\n",
       "  <tbody>\n",
       "    <tr>\n",
       "      <th>count</th>\n",
       "      <td>31047.00000</td>\n",
       "      <td>3.104700e+04</td>\n",
       "      <td>31047.000000</td>\n",
       "      <td>31047</td>\n",
       "      <td>31047.000000</td>\n",
       "      <td>31047.000000</td>\n",
       "      <td>31047.000000</td>\n",
       "    </tr>\n",
       "    <tr>\n",
       "      <th>mean</th>\n",
       "      <td>15524.00000</td>\n",
       "      <td>4.936824e+06</td>\n",
       "      <td>39.496570</td>\n",
       "      <td>2022-06-15 06:41:39.719779584</td>\n",
       "      <td>1.006120</td>\n",
       "      <td>682.074822</td>\n",
       "      <td>460474.587206</td>\n",
       "    </tr>\n",
       "    <tr>\n",
       "      <th>min</th>\n",
       "      <td>1.00000</td>\n",
       "      <td>8.950000e+02</td>\n",
       "      <td>18.000000</td>\n",
       "      <td>2022-01-04 00:00:00</td>\n",
       "      <td>1.000000</td>\n",
       "      <td>229.000000</td>\n",
       "      <td>110001.000000</td>\n",
       "    </tr>\n",
       "    <tr>\n",
       "      <th>25%</th>\n",
       "      <td>7762.50000</td>\n",
       "      <td>2.416471e+06</td>\n",
       "      <td>28.000000</td>\n",
       "      <td>2022-03-06 00:00:00</td>\n",
       "      <td>1.000000</td>\n",
       "      <td>486.000000</td>\n",
       "      <td>313001.000000</td>\n",
       "    </tr>\n",
       "    <tr>\n",
       "      <th>50%</th>\n",
       "      <td>15524.00000</td>\n",
       "      <td>4.909885e+06</td>\n",
       "      <td>37.000000</td>\n",
       "      <td>2022-06-06 00:00:00</td>\n",
       "      <td>1.000000</td>\n",
       "      <td>646.000000</td>\n",
       "      <td>500028.000000</td>\n",
       "    </tr>\n",
       "    <tr>\n",
       "      <th>75%</th>\n",
       "      <td>23285.50000</td>\n",
       "      <td>7.454182e+06</td>\n",
       "      <td>47.000000</td>\n",
       "      <td>2022-09-06 00:00:00</td>\n",
       "      <td>1.000000</td>\n",
       "      <td>794.000000</td>\n",
       "      <td>600040.000000</td>\n",
       "    </tr>\n",
       "    <tr>\n",
       "      <th>max</th>\n",
       "      <td>31047.00000</td>\n",
       "      <td>9.999233e+06</td>\n",
       "      <td>78.000000</td>\n",
       "      <td>2022-12-06 00:00:00</td>\n",
       "      <td>5.000000</td>\n",
       "      <td>3036.000000</td>\n",
       "      <td>855117.000000</td>\n",
       "    </tr>\n",
       "    <tr>\n",
       "      <th>std</th>\n",
       "      <td>8962.64124</td>\n",
       "      <td>2.900678e+06</td>\n",
       "      <td>15.117233</td>\n",
       "      <td>NaN</td>\n",
       "      <td>0.094088</td>\n",
       "      <td>268.582173</td>\n",
       "      <td>198116.733009</td>\n",
       "    </tr>\n",
       "  </tbody>\n",
       "</table>\n",
       "</div>"
      ],
      "text/plain": [
       "             index       Cust ID           Age                           Date  \\\n",
       "count  31047.00000  3.104700e+04  31047.000000                          31047   \n",
       "mean   15524.00000  4.936824e+06     39.496570  2022-06-15 06:41:39.719779584   \n",
       "min        1.00000  8.950000e+02     18.000000            2022-01-04 00:00:00   \n",
       "25%     7762.50000  2.416471e+06     28.000000            2022-03-06 00:00:00   \n",
       "50%    15524.00000  4.909885e+06     37.000000            2022-06-06 00:00:00   \n",
       "75%    23285.50000  7.454182e+06     47.000000            2022-09-06 00:00:00   \n",
       "max    31047.00000  9.999233e+06     78.000000            2022-12-06 00:00:00   \n",
       "std     8962.64124  2.900678e+06     15.117233                            NaN   \n",
       "\n",
       "                Qty        Amount  ship-postal-code  \n",
       "count  31047.000000  31047.000000      31047.000000  \n",
       "mean       1.006120    682.074822     460474.587206  \n",
       "min        1.000000    229.000000     110001.000000  \n",
       "25%        1.000000    486.000000     313001.000000  \n",
       "50%        1.000000    646.000000     500028.000000  \n",
       "75%        1.000000    794.000000     600040.000000  \n",
       "max        5.000000   3036.000000     855117.000000  \n",
       "std        0.094088    268.582173     198116.733009  "
      ]
     },
     "execution_count": 12,
     "metadata": {},
     "output_type": "execute_result"
    }
   ],
   "source": [
    "store.describe()"
   ]
  },
  {
   "cell_type": "code",
   "execution_count": 13,
   "metadata": {},
   "outputs": [],
   "source": [
    "# export cleaned data  \n",
    "store.to_csv(\"C:\\\\Users\\\\nauti\\\\Desktop\\\\python_ducat\\\\cleaned\\\\cleaned.csv\")"
   ]
  },
  {
   "cell_type": "code",
   "execution_count": 14,
   "metadata": {},
   "outputs": [
    {
     "data": {
      "text/plain": [
       "<BarContainer object of 5 artists>"
      ]
     },
     "execution_count": 14,
     "metadata": {},
     "output_type": "execute_result"
    },
    {
     "data": {
      "image/png": "[encoded data removed]",
      "text/plain": [
       "<Figure size 640x480 with 1 Axes>"
      ]
     },
     "metadata": {},
     "output_type": "display_data"
    }
   ],
   "source": [
    "# top 5 cities contributed in most sales \n",
    "# GRAPGH REPRESENTATION \n",
    "\n",
    "total=store.groupby(\"ship-city\")[\"Amount\"].sum().head().sort_values(ascending=False)\n",
    "city= total.reset_index()\n",
    "\n",
    "plt.bar(city[\"ship-city\"], city[\"Amount\"])"
   ]
  },
  {
   "cell_type": "code",
   "execution_count": 15,
   "metadata": {},
   "outputs": [
    {
     "data": {
      "image/png": "[encoded data removed]",
      "text/plain": [
       "<Figure size 640x480 with 1 Axes>"
      ]
     },
     "metadata": {},
     "output_type": "display_data"
    }
   ],
   "source": [
    "# plotting a pie chart based on   most sales  by channel\n",
    "\n",
    "piechart= store.groupby(\"Channel \")[\"Amount\"].sum()\n",
    "label= piechart.index\n",
    "plt.pie(piechart,labels=label,autopct=\"%1.f%%\",explode=[0.1,0,0,0,0,0,0.1])\n",
    "\n",
    "\n",
    "\n",
    "\n",
    "plt.show()\n"
   ]
  },
  {
   "cell_type": "code",
   "execution_count": 16,
   "metadata": {},
   "outputs": [
    {
     "data": {
      "image/png": "[encoded data removed]",
      "text/plain": [
       "<Figure size 640x480 with 1 Axes>"
      ]
     },
     "metadata": {},
     "output_type": "display_data"
    }
   ],
   "source": [
    "# Amount spend by eacg gender \n",
    "\n",
    "amount= store.groupby(\"Sex\")[\"Amount\"].sum()\n",
    "\n",
    "gender = amount.index\n",
    "\n",
    "\n",
    "plt.bar(gender,amount,color=[\"pink\",\"purple\"])\n",
    "\n",
    "\n",
    "\n",
    "plt.ylabel(\"Total Amount\")\n",
    "\n",
    "plt.title(\"Amount spend by gender\")\n",
    "\n",
    "\n",
    "plt.show()\n"
   ]
  },
  {
   "cell_type": "code",
   "execution_count": 17,
   "metadata": {},
   "outputs": [
    {
     "data": {
      "image/png": "[encoded data removed]",
      "text/plain": [
       "<Figure size 640x480 with 1 Axes>"
      ]
     },
     "metadata": {},
     "output_type": "display_data"
    }
   ],
   "source": [
    "\n",
    "# AGe Distribution of data \n",
    "\n",
    "import seaborn as sns \n",
    "sns.histplot(x=store[\"Age\"],bins=10,color=\"red\")\n",
    "plt.title(\"distribution of age \")\n",
    "plt.show()"
   ]
  },
  {
   "cell_type": "code",
   "execution_count": 18,
   "metadata": {},
   "outputs": [
    {
     "data": {
      "text/html": [
       "<div>\n",
       "<style scoped>\n",
       "    .dataframe tbody tr th:only-of-type {\n",
       "        vertical-align: middle;\n",
       "    }\n",
       "\n",
       "    .dataframe tbody tr th {\n",
       "        vertical-align: top;\n",
       "    }\n",
       "\n",
       "    .dataframe thead th {\n",
       "        text-align: right;\n",
       "    }\n",
       "</style>\n",
       "<table border=\"1\" class=\"dataframe\">\n",
       "  <thead>\n",
       "    <tr style=\"text-align: right;\">\n",
       "      <th></th>\n",
       "      <th>index</th>\n",
       "      <th>Order ID</th>\n",
       "      <th>Cust ID</th>\n",
       "      <th>Sex</th>\n",
       "      <th>Age</th>\n",
       "      <th>age group</th>\n",
       "      <th>Date</th>\n",
       "      <th>Status</th>\n",
       "      <th>Channel</th>\n",
       "      <th>SKU</th>\n",
       "      <th>Category</th>\n",
       "      <th>Size</th>\n",
       "      <th>Qty</th>\n",
       "      <th>Amount</th>\n",
       "      <th>ship-city</th>\n",
       "      <th>ship-state</th>\n",
       "      <th>ship-postal-code</th>\n",
       "      <th>B2B</th>\n",
       "    </tr>\n",
       "  </thead>\n",
       "  <tbody>\n",
       "    <tr>\n",
       "      <th>0</th>\n",
       "      <td>1</td>\n",
       "      <td>171-1029312-3038738</td>\n",
       "      <td>1029312</td>\n",
       "      <td>Women</td>\n",
       "      <td>44</td>\n",
       "      <td>Adult</td>\n",
       "      <td>2022-12-04</td>\n",
       "      <td>Delivered</td>\n",
       "      <td>Myntra</td>\n",
       "      <td>JNE1233-BLUE-KR-031-XXL</td>\n",
       "      <td>kurta</td>\n",
       "      <td>XXL</td>\n",
       "      <td>1</td>\n",
       "      <td>376</td>\n",
       "      <td>MOHALI</td>\n",
       "      <td>None</td>\n",
       "      <td>140301</td>\n",
       "      <td>False</td>\n",
       "    </tr>\n",
       "  </tbody>\n",
       "</table>\n",
       "</div>"
      ],
      "text/plain": [
       "   index             Order ID  Cust ID    Sex  Age age group       Date  \\\n",
       "0      1  171-1029312-3038738  1029312  Women   44     Adult 2022-12-04   \n",
       "\n",
       "      Status Channel                       SKU Category Size  Qty  Amount  \\\n",
       "0  Delivered   Myntra  JNE1233-BLUE-KR-031-XXL    kurta  XXL    1     376   \n",
       "\n",
       "  ship-city ship-state  ship-postal-code    B2B  \n",
       "0    MOHALI       None            140301  False  "
      ]
     },
     "execution_count": 18,
     "metadata": {},
     "output_type": "execute_result"
    }
   ],
   "source": [
    "store.head(1)"
   ]
  },
  {
   "cell_type": "code",
   "execution_count": 19,
   "metadata": {},
   "outputs": [
    {
     "data": {
      "image/png": "[encoded data removed]",
      "text/plain": [
       "<Figure size 640x480 with 1 Axes>"
      ]
     },
     "metadata": {},
     "output_type": "display_data"
    }
   ],
   "source": [
    "# barchart on each channel \n",
    "piechart= store.groupby(\"Channel \")[\"Amount\"].sum()\n",
    "label= piechart.index\n",
    "\n",
    "sns.barplot(x=piechart,y=label,hue=label)\n",
    "\n",
    "plt.show()"
   ]
  },
  {
   "cell_type": "code",
   "execution_count": 20,
   "metadata": {},
   "outputs": [
    {
     "data": {
      "text/plain": [
       "<matplotlib.legend.Legend at 0x285c52315e0>"
      ]
     },
     "execution_count": 20,
     "metadata": {},
     "output_type": "execute_result"
    },
    {
     "data": {
      "image/png": "[encoded data removed]",
      "text/plain": [
       "<Figure size 1200x800 with 1 Axes>"
      ]
     },
     "metadata": {},
     "output_type": "display_data"
    }
   ],
   "source": [
    "\n",
    "# sales by gender by each channel \n",
    "\n",
    "a = store.groupby([\"Channel \",\"Sex\"])[\"Amount\"].sum().reset_index()\n",
    "\n",
    "plt.figure(figsize=(12,8))\n",
    "sns.barplot(x=store[\"Channel \"],y=store[\"Amount\"],data=a,hue=store[\"Sex\"])\n",
    "plt.legend()"
   ]
  },
  {
   "cell_type": "code",
   "execution_count": null,
   "metadata": {},
   "outputs": [],
   "source": []
  }
 ],
 "metadata": {
  "kernelspec": {
   "display_name": "Python 3",
   "language": "python",
   "name": "python3"
  },
  "language_info": {
   "codemirror_mode": {
    "name": "ipython",
    "version": 3
   },
   "file_extension": ".py",
   "mimetype": "text/x-python",
   "name": "python",
   "nbconvert_exporter": "python",
   "pygments_lexer": "ipython3",
   "version": "3.12.5"
  }
 },
 "nbformat": 4,
 "nbformat_minor": 2
}
